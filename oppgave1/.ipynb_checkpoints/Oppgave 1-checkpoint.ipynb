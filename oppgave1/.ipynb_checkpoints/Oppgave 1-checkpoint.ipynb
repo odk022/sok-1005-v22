{
 "cells": [
  {
   "cell_type": "markdown",
   "id": "215e127c-3ce3-4f2e-a465-01587281be56",
   "metadata": {},
   "source": [
    "R kode oppgave 1"
   ]
  },
  {
   "cell_type": "code",
   "execution_count": 1,
   "id": "dd296d7a-666f-4946-85d5-9df88fc5865a",
   "metadata": {},
   "outputs": [
    {
     "data": {
      "text/html": [
       "4"
      ],
      "text/latex": [
       "4"
      ],
      "text/markdown": [
       "4"
      ],
      "text/plain": [
       "[1] 4"
      ]
     },
     "metadata": {},
     "output_type": "display_data"
    }
   ],
   "source": [
    "2 + 2"
   ]
  },
  {
   "cell_type": "code",
   "execution_count": null,
   "id": "b537e21c-b24b-4647-8528-c5b3213374f0",
   "metadata": {},
   "outputs": [],
   "source": []
  }
 ],
 "metadata": {
  "kernelspec": {
   "display_name": "R",
   "language": "R",
   "name": "ir"
  },
  "language_info": {
   "codemirror_mode": "r",
   "file_extension": ".r",
   "mimetype": "text/x-r-source",
   "name": "R",
   "pygments_lexer": "r",
   "version": "4.1.2"
  }
 },
 "nbformat": 4,
 "nbformat_minor": 5
}
