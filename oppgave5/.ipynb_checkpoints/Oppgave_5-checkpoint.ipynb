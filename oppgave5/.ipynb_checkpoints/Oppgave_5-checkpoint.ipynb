{
 "cells": [
  {
   "cell_type": "markdown",
   "id": "b2bb5dbe-d3a9-4061-a624-279d2e42a0ef",
   "metadata": {
    "tags": []
   },
   "source": [
    "### Oppgave 5: ### \n"
   ]
  },
  {
   "cell_type": "markdown",
   "id": "49a5cce7-0f87-495a-bdde-f15cfef514ce",
   "metadata": {},
   "source": [
    "#### Mappeoppgave Python 1:\n",
    "#### a) Skrap data fra nettet, kjør en regresjon, lag et plott og tolk resultatet."
   ]
  },
  {
   "cell_type": "markdown",
   "id": "fa53b6ad-0bf7-4761-b09f-ae97c1fa0fc4",
   "metadata": {},
   "source": [
    "I want to investigate the relationship between the prices of different types of oil in the period 1976 - 2017. I look at the relationship between the prices of Brent oil (North Sea oil) and Dubai oil (Middle East)\n",
    "Data are downloaded from https://en.wikipedia.org/wiki/Oilprisen which has the BP Statistical Review of World Energy as its source."
   ]
  },
  {
   "cell_type": "markdown",
   "id": "d975e84b-962e-4de2-9c61-d297c1d7b083",
   "metadata": {},
   "source": [
    "I use the recipe for web scraping that we have received at the lectures in sok-1005 in spring 2022:"
   ]
  },
  {
   "cell_type": "code",
   "execution_count": 1,
   "id": "a032cc5c-0379-445f-b716-a73395ca1094",
   "metadata": {},
   "outputs": [],
   "source": [
    "from bs4 import BeautifulSoup\n",
    "import requests\n",
    "\n",
    "def scrape(url, file_name):\n",
    "    table=[]\n",
    "    tables=fetch_html_tables(url)\n",
    "    #iterate over all tables, if there are more than one:\n",
    "    for tbl in tables:\n",
    "        #exends table so that table is a list containing elements \n",
    "        #from all tables:\n",
    "        table.extend(html_to_table(tbl))\n",
    "    #saving it:\n",
    "    save_data(file_name,table)\n",
    "    return table\n",
    " \n",
    "\n",
    "def save_data(file_name,table):\n",
    "    \"Saves table to file_name\"\n",
    "    f=open(file_name,'w')\n",
    "    for row in table:\n",
    "        f.write(';'.join(row)+'\\n')\n",
    "    f.close()\n",
    "\n",
    "\n",
    "def fetch_html_tables(url):\n",
    "    \"Returns a list of tables in the html of url\"\n",
    "    page = requests.get(url)\n",
    "    bs=BeautifulSoup(page.content)\n",
    "    tables=bs.find_all('table')\n",
    "    return tables\n",
    "\n",
    "def html_to_table(html):\n",
    "    \"Returns the table defined in html as a list\"\n",
    "    #defining the table:\n",
    "    table=[]\n",
    "    #iterating over all rows\n",
    "    for row in html.find_all('tr'):\n",
    "        r=[]\n",
    "        #finding all cells in each row:\n",
    "        cells=row.find_all('td')\n",
    "        \n",
    "        #if no cells are found, look for headings\n",
    "        if len(cells)==0:\n",
    "            cells=row.find_all('th')\n",
    "            \n",
    "        #iterate over cells:\n",
    "        for cell in cells:\n",
    "            cell=format(cell)\n",
    "            r.append(cell)\n",
    "        \n",
    "        #append the row to t:\n",
    "        table.append(r)\n",
    "    return table\n",
    "\n",
    "def format(cell):\n",
    "    \"Returns a string after converting bs4 object cell to clean text\"\n",
    "    if cell.content is None:\n",
    "        s=cell.text\n",
    "    elif len(cell.content)==0:\n",
    "        return ''\n",
    "    else:\n",
    "        s=' '.join([str(c) for c in cell.content])\n",
    "        \n",
    "    #here you can add additional characters/strings you want to \n",
    "    #remove, change punctuations or format the string in other\n",
    "    #ways:\n",
    "    s=s.replace('\\xa0','')\n",
    "    s=s.replace('\\n','')\n",
    "    s=s.replace(',','.')\n",
    "    s=s.replace('-','NaN')\n",
    "    return s"
   ]
  },
  {
   "cell_type": "markdown",
   "id": "cd73deee-b75b-419f-8fcd-b92c841a283f",
   "metadata": {},
   "source": [
    "I get the table I want"
   ]
  },
  {
   "cell_type": "code",
   "execution_count": 2,
   "id": "3645ed0c-54c8-4f74-b1bf-2f9edccf26dd",
   "metadata": {},
   "outputs": [],
   "source": [
    "import numpy as np\n",
    "import pandas as pd\n",
    "url='https://no.wikipedia.org/wiki/Oljeprisen#Historie'\n",
    "file_name='oljepris.csv'\n",
    "\n",
    "table=scrape(url,file_name)\n",
    "\n",
    "s='\\n'.join(['\\t'.join(row) for row in table])\n",
    "\n",
    "\n",
    "#printing top\n",
    "#print(str(s)[:1000])\n",
    "\n",
    "oljepris = pd.DataFrame(table)\n",
    "#print(oljepris)"
   ]
  },
  {
   "cell_type": "code",
   "execution_count": 3,
   "id": "cf6100e8-3456-4d67-87ed-98b12a3b6892",
   "metadata": {},
   "outputs": [
    {
     "data": {
      "text/html": [
       "<div>\n",
       "<style scoped>\n",
       "    .dataframe tbody tr th:only-of-type {\n",
       "        vertical-align: middle;\n",
       "    }\n",
       "\n",
       "    .dataframe tbody tr th {\n",
       "        vertical-align: top;\n",
       "    }\n",
       "\n",
       "    .dataframe thead th {\n",
       "        text-align: right;\n",
       "    }\n",
       "</style>\n",
       "<table border=\"1\" class=\"dataframe\">\n",
       "  <thead>\n",
       "    <tr style=\"text-align: right;\">\n",
       "      <th></th>\n",
       "      <th>Ã",
       "r</th>\n",
       "      <th>Dubai</th>\n",
       "      <th>Brent</th>\n",
       "      <th>NigerianForcados</th>\n",
       "      <th>WTI</th>\n",
       "    </tr>\n",
       "  </thead>\n",
       "  <tbody>\n",
       "    <tr>\n",
       "      <th>0</th>\n",
       "      <td>1970</td>\n",
       "      <td>1.21</td>\n",
       "      <td>NaN</td>\n",
       "      <td>NaN</td>\n",
       "      <td>NaN</td>\n",
       "    </tr>\n",
       "    <tr>\n",
       "      <th>1</th>\n",
       "      <td>1971</td>\n",
       "      <td>1.69</td>\n",
       "      <td>NaN</td>\n",
       "      <td>NaN</td>\n",
       "      <td>NaN</td>\n",
       "    </tr>\n",
       "    <tr>\n",
       "      <th>2</th>\n",
       "      <td>1972</td>\n",
       "      <td>1.90</td>\n",
       "      <td>NaN</td>\n",
       "      <td>NaN</td>\n",
       "      <td>NaN</td>\n",
       "    </tr>\n",
       "    <tr>\n",
       "      <th>3</th>\n",
       "      <td>1973</td>\n",
       "      <td>2.83</td>\n",
       "      <td>NaN</td>\n",
       "      <td>NaN</td>\n",
       "      <td>NaN</td>\n",
       "    </tr>\n",
       "    <tr>\n",
       "      <th>4</th>\n",
       "      <td>1974</td>\n",
       "      <td>10.41</td>\n",
       "      <td>NaN</td>\n",
       "      <td>NaN</td>\n",
       "      <td>NaN</td>\n",
       "    </tr>\n",
       "  </tbody>\n",
       "</table>\n",
       "</div>"
      ],
      "text/plain": [
       "    Ã\n",
       "r  Dubai Brent  NigerianForcados  WTI\n",
       "0  1970   1.21   NaN               NaN  NaN\n",
       "1  1971   1.69   NaN               NaN  NaN\n",
       "2  1972   1.90   NaN               NaN  NaN\n",
       "3  1973   2.83   NaN               NaN  NaN\n",
       "4  1974  10.41   NaN               NaN  NaN"
      ]
     },
     "execution_count": 3,
     "metadata": {},
     "output_type": "execute_result"
    }
   ],
   "source": [
    "# collect the file\n",
    "import pandas as pd\n",
    "oljepris = pd.read_csv('oljepris.csv', delimiter=';', encoding='latin1')\n",
    "oljepris.head()\n"
   ]
  },
  {
   "cell_type": "code",
   "execution_count": 4,
   "id": "25861c67-f604-4446-8b89-6a9d19339dee",
   "metadata": {},
   "outputs": [
    {
     "name": "stdout",
     "output_type": "stream",
     "text": [
      "Index(['Ã",
      "r', 'Dubai', 'Brent', 'NigerianForcados', 'WTI'], dtype='object')\n",
      "Ã",
      "r                  object\n",
      "Dubai               float64\n",
      "Brent                object\n",
      "NigerianForcados    float64\n",
      "WTI                 float64\n",
      "dtype: object\n"
     ]
    }
   ],
   "source": [
    "# checking the column names:\n",
    "print(oljepris.columns)\n",
    "\n",
    "#checking the datatypes:\n",
    "print(oljepris.dtypes,sep='')"
   ]
  },
  {
   "cell_type": "code",
   "execution_count": null,
   "id": "d3a2271e-1919-4f0b-bfda-25fadb10d3bc",
   "metadata": {},
   "outputs": [],
   "source": []
  },
  {
   "cell_type": "markdown",
   "id": "866f1280-454e-4c78-9af7-b37d341ffee7",
   "metadata": {},
   "source": [
    "I remove all rows that do not have all values and subtitles, and arrange new column headings.  \n",
    "I also change the data type on Brent_price and year:"
   ]
  },
  {
   "cell_type": "code",
   "execution_count": 5,
   "id": "30b661ff-ed0f-4081-ab2f-674ad3ce3621",
   "metadata": {},
   "outputs": [
    {
     "data": {
      "text/html": [
       "<div>\n",
       "<style scoped>\n",
       "    .dataframe tbody tr th:only-of-type {\n",
       "        vertical-align: middle;\n",
       "    }\n",
       "\n",
       "    .dataframe tbody tr th {\n",
       "        vertical-align: top;\n",
       "    }\n",
       "\n",
       "    .dataframe thead th {\n",
       "        text-align: right;\n",
       "    }\n",
       "</style>\n",
       "<table border=\"1\" class=\"dataframe\">\n",
       "  <thead>\n",
       "    <tr style=\"text-align: right;\">\n",
       "      <th></th>\n",
       "      <th>Year</th>\n",
       "      <th>Dubai_price</th>\n",
       "      <th>Brent_price</th>\n",
       "      <th>NigerianForcados</th>\n",
       "      <th>WTI</th>\n",
       "    </tr>\n",
       "  </thead>\n",
       "  <tbody>\n",
       "    <tr>\n",
       "      <th>6</th>\n",
       "      <td>1976</td>\n",
       "      <td>11.63</td>\n",
       "      <td>12.80</td>\n",
       "      <td>12.87</td>\n",
       "      <td>12.23</td>\n",
       "    </tr>\n",
       "    <tr>\n",
       "      <th>7</th>\n",
       "      <td>1977</td>\n",
       "      <td>12.38</td>\n",
       "      <td>13.92</td>\n",
       "      <td>14.21</td>\n",
       "      <td>14.22</td>\n",
       "    </tr>\n",
       "    <tr>\n",
       "      <th>8</th>\n",
       "      <td>1978</td>\n",
       "      <td>13.03</td>\n",
       "      <td>14.02</td>\n",
       "      <td>13.65</td>\n",
       "      <td>14.55</td>\n",
       "    </tr>\n",
       "    <tr>\n",
       "      <th>9</th>\n",
       "      <td>1979</td>\n",
       "      <td>29.75</td>\n",
       "      <td>31.61</td>\n",
       "      <td>29.25</td>\n",
       "      <td>25.08</td>\n",
       "    </tr>\n",
       "    <tr>\n",
       "      <th>10</th>\n",
       "      <td>1980</td>\n",
       "      <td>35.69</td>\n",
       "      <td>36.83</td>\n",
       "      <td>36.98</td>\n",
       "      <td>37.96</td>\n",
       "    </tr>\n",
       "  </tbody>\n",
       "</table>\n",
       "</div>"
      ],
      "text/plain": [
       "    Year  Dubai_price  Brent_price  NigerianForcados    WTI\n",
       "6   1976        11.63        12.80             12.87  12.23\n",
       "7   1977        12.38        13.92             14.21  14.22\n",
       "8   1978        13.03        14.02             13.65  14.55\n",
       "9   1979        29.75        31.61             29.25  25.08\n",
       "10  1980        35.69        36.83             36.98  37.96"
      ]
     },
     "execution_count": 5,
     "metadata": {},
     "output_type": "execute_result"
    }
   ],
   "source": [
    "oljepris_r1 = oljepris.dropna()\n",
    "oljepris_r1.columns = ['Year','Dubai_price','Brent_price','NigerianForcados','WTI']\n",
    "\n",
    "\n",
    "oljepris_r1 = oljepris_r1.astype({'Brent_price': float})\n",
    "oljepris_r1 = oljepris_r1.astype({'Year': int})\n",
    "\n",
    "oljepris_r1.head()\n"
   ]
  },
  {
   "cell_type": "code",
   "execution_count": 6,
   "id": "bd7273dc-e176-4840-a166-02cc259e6232",
   "metadata": {},
   "outputs": [
    {
     "name": "stdout",
     "output_type": "stream",
     "text": [
      "Year                  int64\n",
      "Dubai_price         float64\n",
      "Brent_price         float64\n",
      "NigerianForcados    float64\n",
      "WTI                 float64\n",
      "dtype: object\n"
     ]
    }
   ],
   "source": [
    "# checking that the datatypes is ok:\n",
    "print(oljepris_r1.dtypes,sep='')"
   ]
  },
  {
   "cell_type": "code",
   "execution_count": null,
   "id": "8936ccaa-0924-4dc5-bef8-6127836a272e",
   "metadata": {},
   "outputs": [],
   "source": []
  },
  {
   "cell_type": "markdown",
   "id": "dbbb4300-f9b6-4bc9-ae46-c8efaaea5d73",
   "metadata": {},
   "source": [
    "I make a plot for the connection between Dubai and Brent oil prices: "
   ]
  },
  {
   "cell_type": "code",
   "execution_count": 7,
   "id": "e34cf9db-c7b7-4858-800b-7ce81ba49f23",
   "metadata": {},
   "outputs": [
    {
     "data": {
      "text/plain": [
       "<matplotlib.legend.Legend at 0x7f6503616850>"
      ]
     },
     "execution_count": 7,
     "metadata": {},
     "output_type": "execute_result"
    },
    {
     "data": {
      "image/png": "[encoded data removed]",
      "text/plain": [
       "<Figure size 720x576 with 1 Axes>"
      ]
     },
     "metadata": {
      "needs_background": "light"
     },
     "output_type": "display_data"
    }
   ],
   "source": [
    "from matplotlib import pyplot as plt\n",
    "\n",
    "fig,ax=plt.subplots(figsize=(10,8))\n",
    "\n",
    "#adding axis lables:\n",
    "ax.set_ylabel('Brent_price', fontsize = 12)\n",
    "ax.set_xlabel('Dubai_price', fontsize = 12)\n",
    "\n",
    "#plotting the function:\n",
    "ax.scatter(oljepris_r1['Dubai_price'], oljepris_r1['Brent_price'], label='Dubai vs Brent')\n",
    "\n",
    "ax.set_title('Relation between oil prices', fontsize = 16, fontweight =\"bold\" )\n",
    "ax.legend(loc='lower right',frameon=False)\n"
   ]
  },
  {
   "cell_type": "markdown",
   "id": "cd0d4a0a-0803-4899-bf5f-4d3674e76137",
   "metadata": {},
   "source": [
    "Comment:  \n",
    "The data points show annual data for the ratio between the spot price of Brent_oil and Dubai_oil on average. We see that they are almost in a straight line."
   ]
  },
  {
   "cell_type": "code",
   "execution_count": null,
   "id": "85e0f682-0968-4552-a4a8-06816a3dd08a",
   "metadata": {},
   "outputs": [],
   "source": []
  },
  {
   "cell_type": "markdown",
   "id": "1d74cbed-bf02-4395-a4a4-033e839289f9",
   "metadata": {},
   "source": [
    "I will now make a regression.  "
   ]
  },
  {
   "cell_type": "code",
   "execution_count": 8,
   "id": "27b35896-13e7-47a8-b116-d4d72472fe3d",
   "metadata": {},
   "outputs": [],
   "source": [
    "# I define y and x:\n",
    "y=oljepris_r1['Brent_price']\n",
    "\n",
    "x=pd.DataFrame(oljepris_r1['Dubai_price'])\n",
    "x['intercept']=1"
   ]
  },
  {
   "cell_type": "markdown",
   "id": "c7f4f009-abba-4742-9439-6f1899309404",
   "metadata": {},
   "source": [
    "and run the regression:"
   ]
  },
  {
   "cell_type": "code",
   "execution_count": 9,
   "id": "41755482-606f-4c3c-9344-4fad0937b1c9",
   "metadata": {},
   "outputs": [
    {
     "name": "stdout",
     "output_type": "stream",
     "text": [
      "                            OLS Regression Results                            \n",
      "==============================================================================\n",
      "Dep. Variable:            Brent_price   R-squared:                       0.999\n",
      "Model:                            OLS   Adj. R-squared:                  0.999\n",
      "Method:                 Least Squares   F-statistic:                 2.733e+04\n",
      "Date:                Fri, 01 Apr 2022   Prob (F-statistic):           2.49e-58\n",
      "Time:                        07:57:31   Log-Likelihood:                -64.518\n",
      "No. Observations:                  42   AIC:                             133.0\n",
      "Df Residuals:                      40   BIC:                             136.5\n",
      "Df Model:                           1                                         \n",
      "Covariance Type:            nonrobust                                         \n",
      "===============================================================================\n",
      "                  coef    std err          t      P>|t|      [0.025      0.975]\n",
      "-------------------------------------------------------------------------------\n",
      "Dubai_price     1.0184      0.006    165.307      0.000       1.006       1.031\n",
      "intercept       1.2640      0.293      4.315      0.000       0.672       1.856\n",
      "==============================================================================\n",
      "Omnibus:                        5.390   Durbin-Watson:                   1.041\n",
      "Prob(Omnibus):                  0.068   Jarque-Bera (JB):                4.393\n",
      "Skew:                           0.777   Prob(JB):                        0.111\n",
      "Kurtosis:                       3.304   Cond. No.                         78.4\n",
      "==============================================================================\n",
      "\n",
      "Notes:\n",
      "[1] Standard Errors assume that the covariance matrix of the errors is correctly specified.\n"
     ]
    }
   ],
   "source": [
    "from statsmodels.regression.linear_model import OLS\n",
    "\n",
    "oil_price_reg=OLS(y,x).fit()\n",
    "\n",
    "print(oil_price_reg.summary())"
   ]
  },
  {
   "cell_type": "code",
   "execution_count": 10,
   "id": "920c2a50-c614-4353-8dbc-e7989c28fec5",
   "metadata": {},
   "outputs": [
    {
     "data": {
      "text/plain": [
       "Dubai_price    1.018350\n",
       "intercept      1.264029\n",
       "dtype: float64"
      ]
     },
     "execution_count": 10,
     "metadata": {},
     "output_type": "execute_result"
    }
   ],
   "source": [
    "# summary of regression parameters:\n",
    "oil_price_reg.params"
   ]
  },
  {
   "cell_type": "markdown",
   "id": "5ef55156-7ef5-4cfa-9933-cf726b3e0cde",
   "metadata": {},
   "source": [
    "The repression line is defined as $\\alpha+\\beta \\cdot x$ where $\\alpha$ gives the point of intersection with the y axis and $\\beta$ indicates the slope of the line.   \n",
    "We see that $\\alpha=1.018350$ og $\\beta=1.264029$. This gives us the regression line as: $1.018350 + 1.264029 \\cdot x$. We also see that the P-value is equal to 0 for both Dubai_price ($\\alpha$) and intercept ($\\beta$). This means that the result is no coincidence.   \n",
    "I draw the regression line together with the price plot. "
   ]
  },
  {
   "cell_type": "code",
   "execution_count": 11,
   "id": "5f221c32-55e4-490b-a9e0-572c88cec24b",
   "metadata": {},
   "outputs": [
    {
     "data": {
      "image/png": "[encoded data removed]",
      "text/plain": [
       "<Figure size 720x576 with 1 Axes>"
      ]
     },
     "execution_count": 11,
     "metadata": {},
     "output_type": "execute_result"
    }
   ],
   "source": [
    "# plot with both oilprices and regression line:\n",
    "\n",
    "x=np.linspace(min(oljepris_r1['Dubai_price']), max(oljepris_r1['Dubai_price']), 100)\n",
    "\n",
    "regression_line=oil_price_reg.params['intercept']+oil_price_reg.params['Dubai_price']*x\n",
    "\n",
    "ax.plot(x, regression_line,color='red',label='Regression line')\n",
    "ax.legend(loc='lower right',frameon=False)\n",
    "fig"
   ]
  },
  {
   "cell_type": "markdown",
   "id": "4de3f37c-1a15-49e5-8537-f5e39785b6f1",
   "metadata": {},
   "source": [
    "Comment:  \n",
    "The regression line is very close to the data. This means that the line expresses the connection between these two oil prices in a good way and that the relationship between the prices is relatively constant regardless of price level.\n",
    "What does this mean?\n",
    "The two types of oil are different and may not necessarily be used interchangeably. When the price ratio is so stable over time, it may mean that an agreement has been reached between the major oil producers."
   ]
  },
  {
   "cell_type": "code",
   "execution_count": null,
   "id": "01d28600-9f98-4a16-8822-ebf6fac2473f",
   "metadata": {},
   "outputs": [],
   "source": []
  }
 ],
 "metadata": {
  "kernelspec": {
   "display_name": "Python 3 (ipykernel)",
   "language": "python",
   "name": "python3"
  },
  "language_info": {
   "codemirror_mode": {
    "name": "ipython",
    "version": 3
   },
   "file_extension": ".py",
   "mimetype": "text/x-python",
   "name": "python",
   "nbconvert_exporter": "python",
   "pygments_lexer": "ipython3",
   "version": "3.9.9"
  }
 },
 "nbformat": 4,
 "nbformat_minor": 5
}
